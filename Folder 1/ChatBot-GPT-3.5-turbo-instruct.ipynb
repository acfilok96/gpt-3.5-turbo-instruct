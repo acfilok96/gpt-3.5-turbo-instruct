{
 "cells": [
  {
   "cell_type": "markdown",
   "id": "e9fce9c9",
   "metadata": {},
   "source": [
    "Official Link: https://platform.openai.com/docs/guides/gpt/completions-api"
   ]
  },
  {
   "cell_type": "code",
   "execution_count": 12,
   "id": "74049e27",
   "metadata": {},
   "outputs": [],
   "source": [
    "import openai"
   ]
  },
  {
   "cell_type": "code",
   "execution_count": 18,
   "id": "9fe5a13d",
   "metadata": {},
   "outputs": [],
   "source": [
    "# Set your OpenAI API key\n",
    "openai.api_key = open(\"chatGPT_API_Key.txt\",'r').read().strip(\"\\n\")\n",
    "# print(openai.api_key)"
   ]
  },
  {
   "cell_type": "code",
   "execution_count": 14,
   "id": "82c98e0b",
   "metadata": {},
   "outputs": [
    {
     "name": "stdout",
     "output_type": "stream",
     "text": [
      "{\n",
      "  \"id\": \"cmpl-8EuU3Hv5dhgdO6IXnKH2pfXOhdxJp\",\n",
      "  \"object\": \"text_completion\",\n",
      "  \"created\": 1698564407,\n",
      "  \"model\": \"gpt-3.5-turbo-instruct\",\n",
      "  \"choices\": [\n",
      "    {\n",
      "      \"text\": \"\\n\\n\\\"Scoops of happiness in every cone.\\\"\",\n",
      "      \"index\": 0,\n",
      "      \"logprobs\": null,\n",
      "      \"finish_reason\": \"stop\"\n",
      "    }\n",
      "  ],\n",
      "  \"usage\": {\n",
      "    \"prompt_tokens\": 10,\n",
      "    \"completion_tokens\": 10,\n",
      "    \"total_tokens\": 20\n",
      "  }\n",
      "}\n"
     ]
    }
   ],
   "source": [
    "response = openai.Completion.create(model=\"gpt-3.5-turbo-instruct\",\n",
    "                                    prompt=\"Write a tagline for an ice cream shop.\"\n",
    "                                   )\n",
    "print(response)"
   ]
  },
  {
   "cell_type": "code",
   "execution_count": 26,
   "id": "0f09edf0",
   "metadata": {},
   "outputs": [
    {
     "name": "stdout",
     "output_type": "stream",
     "text": [
      "\n",
      "\n",
      "\"Scoops of happiness in every cone.\"\n"
     ]
    }
   ],
   "source": [
    "print(response[\"choices\"][0][\"text\"])"
   ]
  },
  {
   "cell_type": "code",
   "execution_count": 30,
   "id": "756c8f11",
   "metadata": {},
   "outputs": [],
   "source": [
    "def ChatGPTChatBoatFunction():\n",
    "    print(\"Enter 'Exit' To end the conversation\\n\")\n",
    "    while(True):\n",
    "        # Enter Prompt/Question\n",
    "        enter_prompt = input(\"Prompt: \")\n",
    "        if enter_prompt.lower() != str(\"exit\"):\n",
    "            response = openai.Completion.create(model=\"gpt-3.5-turbo-instruct\",\n",
    "                                                prompt=enter_prompt\n",
    "                                               )\n",
    "            answer = response[\"choices\"][0][\"text\"]\n",
    "            print(\"Response: \",answer)\n",
    "            print()\n",
    "        else:\n",
    "            print(\"Bye! Thank you for visiting this service\")\n",
    "            break"
   ]
  },
  {
   "cell_type": "code",
   "execution_count": 31,
   "id": "31eebb8f",
   "metadata": {},
   "outputs": [
    {
     "name": "stdout",
     "output_type": "stream",
     "text": [
      "Enter 'Exit' To end the conversation\n",
      "\n",
      "Prompt: 2+2=?\n",
      "Response:  '));  //4\n",
      " */ \n",
      "\n",
      "Prompt: what is ram ?\n",
      "Response:  \n",
      "\n",
      "RAM (Random Access Memory) is a type of computer memory that temporarily stores\n",
      "\n",
      "Prompt: thanks\n",
      "Response:   to AhmadBeirkdar)\n",
      "** Another way to check row type is \n",
      " \n",
      "\n",
      "Prompt: exit\n",
      "Bye! Thank you for visiting this service\n"
     ]
    }
   ],
   "source": [
    "ChatGPTChatBoatFunction()"
   ]
  },
  {
   "cell_type": "markdown",
   "id": "5bf91de1",
   "metadata": {},
   "source": [
    "                                            -:END:-"
   ]
  }
 ],
 "metadata": {
  "kernelspec": {
   "display_name": "Python 3 (ipykernel)",
   "language": "python",
   "name": "python3"
  },
  "language_info": {
   "codemirror_mode": {
    "name": "ipython",
    "version": 3
   },
   "file_extension": ".py",
   "mimetype": "text/x-python",
   "name": "python",
   "nbconvert_exporter": "python",
   "pygments_lexer": "ipython3",
   "version": "3.9.12"
  }
 },
 "nbformat": 4,
 "nbformat_minor": 5
}
